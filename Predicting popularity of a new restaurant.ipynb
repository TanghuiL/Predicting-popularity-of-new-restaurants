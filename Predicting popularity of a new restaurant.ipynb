{
 "cells": [
  {
   "cell_type": "markdown",
   "metadata": {},
   "source": [
    "# ML: Predicting Star Ratings\n",
    "\n",
    "\n",
    "The objective of this project is to predict a new restaurant's popularity from information available when the restaurant opens.  To this end, machine learning is applied on a dataset of venue popularities provided by Yelp. In this dataset, information about the venue includes location, food, service etc. A star rating of the venue is also included. \n",
    "\n",
    "### Yelp dataset documentation\n",
    "https://www.yelp.com/dataset/documentation/main\n",
    "Each file is composed of a single object type, one JSON-object per-line.\n",
    "#### business.json\n",
    "Contains business data including location data, attributes, and categories.\n",
    "#### review.json\n",
    "Contains full review text data including the user_id that wrote the review and the business_id the review is written for.\n",
    "#### user.json\n",
    "User data including the user's friend mapping and all the metadata associated with the user.\n",
    "#### checkin.json\n",
    "Checkins on a business.\n",
    "#### tip.json\n",
    "Tips written by a user on a business. Tips are shorter than reviews and tend to convey quick suggestions.\n",
    "#### photo.json\n",
    "Contains photo data including the caption and classification (one of \"food\", \"drink\", \"menu\", \"inside\" or \"outside\")."
   ]
  },
  {
   "cell_type": "code",
   "execution_count": 23,
   "metadata": {},
   "outputs": [],
   "source": [
    "# Import modules and parameters setup\n",
    "import numpy as np\n",
    "import pandas as pd\n",
    "import pandas_profiling\n",
    "\n",
    "import matplotlib.pyplot as plt\n",
    "import seaborn as sns\n",
    "\n",
    "import ujson as json\n",
    "import gzip\n",
    "\n",
    "#sklearn modules\n",
    "from sklearn import base\n",
    "\n",
    "\n",
    "sns.set()\n",
    "\n",
    "%matplotlib inline"
   ]
  },
  {
   "cell_type": "markdown",
   "metadata": {},
   "source": [
    "## Load and check out the data"
   ]
  },
  {
   "cell_type": "code",
   "execution_count": 2,
   "metadata": {},
   "outputs": [],
   "source": [
    "# Load data locally\n",
    "with gzip.open('yelp_train_academic_dataset_business.json.gz') as f:\n",
    "    data = [json.loads(line) for line in f]"
   ]
  },
  {
   "cell_type": "code",
   "execution_count": 9,
   "metadata": {},
   "outputs": [
    {
     "name": "stdout",
     "output_type": "stream",
     "text": [
      "Data is a <class 'list'> of <class 'dict'>\n",
      "-------------------- \n",
      "Here is the first row: \n",
      " {'business_id': 'vcNAWiLM4dR7D2nwwJ7nCA', 'full_address': '4840 E Indian School Rd\\nSte 101\\nPhoenix, AZ 85018', 'hours': {'Tuesday': {'close': '17:00', 'open': '08:00'}, 'Friday': {'close': '17:00', 'open': '08:00'}, 'Monday': {'close': '17:00', 'open': '08:00'}, 'Wednesday': {'close': '17:00', 'open': '08:00'}, 'Thursday': {'close': '17:00', 'open': '08:00'}}, 'open': True, 'categories': ['Doctors', 'Health & Medical'], 'city': 'Phoenix', 'review_count': 7, 'name': 'Eric Goldberg, MD', 'neighborhoods': [], 'longitude': -111.983758, 'state': 'AZ', 'stars': 3.5, 'latitude': 33.499313, 'attributes': {'By Appointment Only': True}, 'type': 'business'}\n",
      "-------------------- \n",
      "Here is the second row: \n",
      " {'business_id': 'JwUE5GmEO-sH1FuwJgKBlQ', 'full_address': '6162 US Highway 51\\nDe Forest, WI 53532', 'hours': {}, 'open': True, 'categories': ['Restaurants'], 'city': 'De Forest', 'review_count': 26, 'name': 'Pine Cone Restaurant', 'neighborhoods': [], 'longitude': -89.335844, 'state': 'WI', 'stars': 4.0, 'latitude': 43.238893, 'attributes': {'Take-out': True, 'Good For': {'dessert': False, 'latenight': False, 'lunch': True, 'dinner': False, 'breakfast': False, 'brunch': False}, 'Caters': False, 'Noise Level': 'average', 'Takes Reservations': False, 'Delivery': False, 'Ambience': {'romantic': False, 'intimate': False, 'touristy': False, 'hipster': False, 'divey': False, 'classy': False, 'trendy': False, 'upscale': False, 'casual': False}, 'Parking': {'garage': False, 'street': False, 'validated': False, 'lot': True, 'valet': False}, 'Has TV': True, 'Outdoor Seating': False, 'Attire': 'casual', 'Alcohol': 'none', 'Waiter Service': True, 'Accepts Credit Cards': True, 'Good for Kids': True, 'Good For Groups': True, 'Price Range': 1}, 'type': 'business'}\n",
      "-------------------- \n",
      "Here is the last row: \n",
      " {'business_id': 'BVxlrYWgmi-8TPGMe6CTpg', 'full_address': '125 Lauriston Pl\\nTollcross\\nEdinburgh EH3 9JN', 'hours': {}, 'open': True, 'categories': ['Food', 'Ethnic Food', 'Grocery', 'Specialty Food'], 'city': 'Edinburgh', 'review_count': 7, 'name': 'Oriental Supermarket', 'neighborhoods': ['Tollcross', 'Old Town'], 'longitude': -3.2025293, 'state': 'EDH', 'stars': 3.5, 'latitude': 55.9441696, 'attributes': {'Parking': {'garage': False, 'street': False, 'validated': False, 'lot': False, 'valet': False}, 'Accepts Credit Cards': True, 'Price Range': 2}, 'type': 'business'}\n"
     ]
    }
   ],
   "source": [
    "# check out the data\n",
    "print(\"Data is a %r of %r\" % (type(data), type(data[0])))\n",
    "print(\"-\"*20, \"\\nHere is the first row: \\n\", data[0])\n",
    "print(\"-\"*20, \"\\nHere is the second row: \\n\", data[1])\n",
    "print(\"-\"*20, \"\\nHere is the last row: \\n\", data[-1])"
   ]
  },
  {
   "cell_type": "code",
   "execution_count": 5,
   "metadata": {},
   "outputs": [
    {
     "name": "stdout",
     "output_type": "stream",
     "text": [
      "star_rating is a <class 'list'>\n",
      "-------------------- \n",
      "Here are some examples: \n",
      " [3.5, 4.0, 4.0]\n",
      "-------------------- \n",
      "The rating is ranging from 1.0 to 5.0\n"
     ]
    }
   ],
   "source": [
    "star_ratings = [row['stars'] for row in data]\n",
    "\n",
    "print(\"star_rating is a %r\" % type(star_ratings))\n",
    "print(\"-\"*20, \"\\nHere are some examples: \\n\", star_ratings[:3])\n",
    "print(\"-\"*20, \"\\nThe rating is ranging from %r to %r\" % (min(star_ratings), max(star_ratings))) "
   ]
  },
  {
   "cell_type": "markdown",
   "metadata": {},
   "source": [
    "## Exploratory data analysis "
   ]
  },
  {
   "cell_type": "code",
   "execution_count": 12,
   "metadata": {},
   "outputs": [],
   "source": [
    "# The loaded data is stored as a dictionary\n",
    "# Now create a dataframe object, df, to store the data\n",
    "df = pd.DataFrame.from_dict(data)"
   ]
  },
  {
   "cell_type": "code",
   "execution_count": 15,
   "metadata": {},
   "outputs": [
    {
     "data": {
      "text/html": [
       "<div>\n",
       "<style scoped>\n",
       "    .dataframe tbody tr th:only-of-type {\n",
       "        vertical-align: middle;\n",
       "    }\n",
       "\n",
       "    .dataframe tbody tr th {\n",
       "        vertical-align: top;\n",
       "    }\n",
       "\n",
       "    .dataframe thead th {\n",
       "        text-align: right;\n",
       "    }\n",
       "</style>\n",
       "<table border=\"1\" class=\"dataframe\">\n",
       "  <thead>\n",
       "    <tr style=\"text-align: right;\">\n",
       "      <th></th>\n",
       "      <th>attributes</th>\n",
       "      <th>business_id</th>\n",
       "      <th>categories</th>\n",
       "      <th>city</th>\n",
       "      <th>full_address</th>\n",
       "      <th>hours</th>\n",
       "      <th>latitude</th>\n",
       "      <th>longitude</th>\n",
       "      <th>name</th>\n",
       "      <th>neighborhoods</th>\n",
       "      <th>open</th>\n",
       "      <th>review_count</th>\n",
       "      <th>stars</th>\n",
       "      <th>state</th>\n",
       "      <th>type</th>\n",
       "    </tr>\n",
       "  </thead>\n",
       "  <tbody>\n",
       "    <tr>\n",
       "      <th>0</th>\n",
       "      <td>{'By Appointment Only': True}</td>\n",
       "      <td>vcNAWiLM4dR7D2nwwJ7nCA</td>\n",
       "      <td>[Doctors, Health &amp; Medical]</td>\n",
       "      <td>Phoenix</td>\n",
       "      <td>4840 E Indian School Rd\\nSte 101\\nPhoenix, AZ ...</td>\n",
       "      <td>{'Tuesday': {'close': '17:00', 'open': '08:00'...</td>\n",
       "      <td>33.499313</td>\n",
       "      <td>-111.983758</td>\n",
       "      <td>Eric Goldberg, MD</td>\n",
       "      <td>[]</td>\n",
       "      <td>True</td>\n",
       "      <td>7</td>\n",
       "      <td>3.5</td>\n",
       "      <td>AZ</td>\n",
       "      <td>business</td>\n",
       "    </tr>\n",
       "    <tr>\n",
       "      <th>1</th>\n",
       "      <td>{'Take-out': True, 'Good For': {'dessert': Fal...</td>\n",
       "      <td>JwUE5GmEO-sH1FuwJgKBlQ</td>\n",
       "      <td>[Restaurants]</td>\n",
       "      <td>De Forest</td>\n",
       "      <td>6162 US Highway 51\\nDe Forest, WI 53532</td>\n",
       "      <td>{}</td>\n",
       "      <td>43.238893</td>\n",
       "      <td>-89.335844</td>\n",
       "      <td>Pine Cone Restaurant</td>\n",
       "      <td>[]</td>\n",
       "      <td>True</td>\n",
       "      <td>26</td>\n",
       "      <td>4.0</td>\n",
       "      <td>WI</td>\n",
       "      <td>business</td>\n",
       "    </tr>\n",
       "    <tr>\n",
       "      <th>2</th>\n",
       "      <td>{'Take-out': True, 'Good For': {'dessert': Fal...</td>\n",
       "      <td>uGykseHzyS5xAMWoN6YUqA</td>\n",
       "      <td>[American (Traditional), Restaurants]</td>\n",
       "      <td>De Forest</td>\n",
       "      <td>505 W North St\\nDe Forest, WI 53532</td>\n",
       "      <td>{'Monday': {'close': '22:00', 'open': '06:00'}...</td>\n",
       "      <td>43.252267</td>\n",
       "      <td>-89.353437</td>\n",
       "      <td>Deforest Family Restaurant</td>\n",
       "      <td>[]</td>\n",
       "      <td>True</td>\n",
       "      <td>16</td>\n",
       "      <td>4.0</td>\n",
       "      <td>WI</td>\n",
       "      <td>business</td>\n",
       "    </tr>\n",
       "    <tr>\n",
       "      <th>3</th>\n",
       "      <td>{'Take-out': True, 'Wi-Fi': 'free', 'Takes Res...</td>\n",
       "      <td>LRKJF43s9-3jG9Lgx4zODg</td>\n",
       "      <td>[Food, Ice Cream &amp; Frozen Yogurt, Fast Food, R...</td>\n",
       "      <td>De Forest</td>\n",
       "      <td>4910 County Rd V\\nDe Forest, WI 53532</td>\n",
       "      <td>{'Monday': {'close': '22:00', 'open': '10:30'}...</td>\n",
       "      <td>43.251045</td>\n",
       "      <td>-89.374983</td>\n",
       "      <td>Culver's</td>\n",
       "      <td>[]</td>\n",
       "      <td>True</td>\n",
       "      <td>7</td>\n",
       "      <td>4.5</td>\n",
       "      <td>WI</td>\n",
       "      <td>business</td>\n",
       "    </tr>\n",
       "    <tr>\n",
       "      <th>4</th>\n",
       "      <td>{'Take-out': True, 'Has TV': False, 'Outdoor S...</td>\n",
       "      <td>RgDg-k9S5YD_BaxMckifkg</td>\n",
       "      <td>[Chinese, Restaurants]</td>\n",
       "      <td>De Forest</td>\n",
       "      <td>631 S Main St\\nDe Forest, WI 53532</td>\n",
       "      <td>{'Monday': {'close': '22:00', 'open': '11:00'}...</td>\n",
       "      <td>43.240875</td>\n",
       "      <td>-89.343722</td>\n",
       "      <td>Chang Jiang Chinese Kitchen</td>\n",
       "      <td>[]</td>\n",
       "      <td>True</td>\n",
       "      <td>3</td>\n",
       "      <td>4.0</td>\n",
       "      <td>WI</td>\n",
       "      <td>business</td>\n",
       "    </tr>\n",
       "  </tbody>\n",
       "</table>\n",
       "</div>"
      ],
      "text/plain": [
       "                                          attributes             business_id  \\\n",
       "0                      {'By Appointment Only': True}  vcNAWiLM4dR7D2nwwJ7nCA   \n",
       "1  {'Take-out': True, 'Good For': {'dessert': Fal...  JwUE5GmEO-sH1FuwJgKBlQ   \n",
       "2  {'Take-out': True, 'Good For': {'dessert': Fal...  uGykseHzyS5xAMWoN6YUqA   \n",
       "3  {'Take-out': True, 'Wi-Fi': 'free', 'Takes Res...  LRKJF43s9-3jG9Lgx4zODg   \n",
       "4  {'Take-out': True, 'Has TV': False, 'Outdoor S...  RgDg-k9S5YD_BaxMckifkg   \n",
       "\n",
       "                                          categories       city  \\\n",
       "0                        [Doctors, Health & Medical]    Phoenix   \n",
       "1                                      [Restaurants]  De Forest   \n",
       "2              [American (Traditional), Restaurants]  De Forest   \n",
       "3  [Food, Ice Cream & Frozen Yogurt, Fast Food, R...  De Forest   \n",
       "4                             [Chinese, Restaurants]  De Forest   \n",
       "\n",
       "                                        full_address  \\\n",
       "0  4840 E Indian School Rd\\nSte 101\\nPhoenix, AZ ...   \n",
       "1            6162 US Highway 51\\nDe Forest, WI 53532   \n",
       "2                505 W North St\\nDe Forest, WI 53532   \n",
       "3              4910 County Rd V\\nDe Forest, WI 53532   \n",
       "4                 631 S Main St\\nDe Forest, WI 53532   \n",
       "\n",
       "                                               hours   latitude   longitude  \\\n",
       "0  {'Tuesday': {'close': '17:00', 'open': '08:00'...  33.499313 -111.983758   \n",
       "1                                                 {}  43.238893  -89.335844   \n",
       "2  {'Monday': {'close': '22:00', 'open': '06:00'}...  43.252267  -89.353437   \n",
       "3  {'Monday': {'close': '22:00', 'open': '10:30'}...  43.251045  -89.374983   \n",
       "4  {'Monday': {'close': '22:00', 'open': '11:00'}...  43.240875  -89.343722   \n",
       "\n",
       "                          name neighborhoods  open  review_count  stars state  \\\n",
       "0            Eric Goldberg, MD            []  True             7    3.5    AZ   \n",
       "1         Pine Cone Restaurant            []  True            26    4.0    WI   \n",
       "2   Deforest Family Restaurant            []  True            16    4.0    WI   \n",
       "3                     Culver's            []  True             7    4.5    WI   \n",
       "4  Chang Jiang Chinese Kitchen            []  True             3    4.0    WI   \n",
       "\n",
       "       type  \n",
       "0  business  \n",
       "1  business  \n",
       "2  business  \n",
       "3  business  \n",
       "4  business  "
      ]
     },
     "execution_count": 15,
     "metadata": {},
     "output_type": "execute_result"
    }
   ],
   "source": [
    "# Check out the headers \n",
    "df.head()"
   ]
  },
  {
   "cell_type": "code",
   "execution_count": 14,
   "metadata": {
    "scrolled": false
   },
   "outputs": [
    {
     "name": "stdout",
     "output_type": "stream",
     "text": [
      "<class 'pandas.core.frame.DataFrame'>\n",
      "RangeIndex: 37938 entries, 0 to 37937\n",
      "Data columns (total 15 columns):\n",
      "attributes       37938 non-null object\n",
      "business_id      37938 non-null object\n",
      "categories       37938 non-null object\n",
      "city             37938 non-null object\n",
      "full_address     37938 non-null object\n",
      "hours            37938 non-null object\n",
      "latitude         37938 non-null float64\n",
      "longitude        37938 non-null float64\n",
      "name             37938 non-null object\n",
      "neighborhoods    37938 non-null object\n",
      "open             37938 non-null bool\n",
      "review_count     37938 non-null int64\n",
      "stars            37938 non-null float64\n",
      "state            37938 non-null object\n",
      "type             37938 non-null object\n",
      "dtypes: bool(1), float64(3), int64(1), object(10)\n",
      "memory usage: 4.1+ MB\n"
     ]
    }
   ],
   "source": [
    "# Check out the columns \n",
    "df.info()"
   ]
  },
  {
   "cell_type": "markdown",
   "metadata": {},
   "source": [
    "#####  Use pandas-profiling library to speed up EDA "
   ]
  },
  {
   "cell_type": "code",
   "execution_count": 31,
   "metadata": {
    "scrolled": true
   },
   "outputs": [
    {
     "data": {
      "text/html": [
       "\n",
       "        <iframe\n",
       "            width=\"100%\"\n",
       "            height=\"800px\"\n",
       "            src=\"ipynb_tmp/profile_3479964247.html\"\n",
       "            frameborder=\"0\"\n",
       "            allowfullscreen\n",
       "        ></iframe>\n",
       "        "
      ],
      "text/plain": [
       "<IPython.lib.display.IFrame at 0x1a2c255860>"
      ]
     },
     "metadata": {},
     "output_type": "display_data"
    },
    {
     "data": {
      "text/plain": []
     },
     "execution_count": 31,
     "metadata": {},
     "output_type": "execute_result"
    }
   ],
   "source": [
    "# remove irrelevant columns\n",
    "df = df.drop(columns=['business_id', 'full_address'])\n",
    "\n",
    "# use pandas_profiling package to conduct an automatic EDA\n",
    "pandas_profiling.ProfileReport(df)"
   ]
  },
  {
   "cell_type": "code",
   "execution_count": 45,
   "metadata": {},
   "outputs": [],
   "source": [
    "# type has only one value: busines, hence remove the dataframe \n",
    "df = df.drop(['type'], axis=1)"
   ]
  },
  {
   "cell_type": "code",
   "execution_count": 47,
   "metadata": {
    "scrolled": true
   },
   "outputs": [
    {
     "name": "stdout",
     "output_type": "stream",
     "text": [
      "Variable: attribute\n",
      "------------------------------ \n",
      "Row1:\n",
      " {'By Appointment Only': True}\n",
      "------------------------------ \n",
      "Row2:\n",
      " {'Take-out': True, 'Good For': {'dessert': False, 'latenight': False, 'lunch': True, 'dinner': False, 'breakfast': False, 'brunch': False}, 'Caters': False, 'Noise Level': 'average', 'Takes Reservations': False, 'Delivery': False, 'Ambience': {'romantic': False, 'intimate': False, 'touristy': False, 'hipster': False, 'divey': False, 'classy': False, 'trendy': False, 'upscale': False, 'casual': False}, 'Parking': {'garage': False, 'street': False, 'validated': False, 'lot': True, 'valet': False}, 'Has TV': True, 'Outdoor Seating': False, 'Attire': 'casual', 'Alcohol': 'none', 'Waiter Service': True, 'Accepts Credit Cards': True, 'Good for Kids': True, 'Good For Groups': True, 'Price Range': 1}\n",
      "------------------------------ \n",
      "Last row:\n",
      " {'Parking': {'garage': False, 'street': False, 'validated': False, 'lot': False, 'valet': False}, 'Accepts Credit Cards': True, 'Price Range': 2}\n",
      "\n",
      "\n",
      "\n",
      "Variable: categories\n",
      "------------------------------ \n",
      "Row1:\n",
      " ['Doctors', 'Health & Medical']\n",
      "------------------------------ \n",
      "Row2:\n",
      " ['Restaurants']\n",
      "------------------------------ \n",
      "Last row:\n",
      " ['Food', 'Ethnic Food', 'Grocery', 'Specialty Food']\n",
      "\n",
      "\n",
      "\n",
      "Variable: hours\n",
      "------------------------------ \n",
      "Row1:\n",
      " {'Tuesday': {'close': '17:00', 'open': '08:00'}, 'Friday': {'close': '17:00', 'open': '08:00'}, 'Monday': {'close': '17:00', 'open': '08:00'}, 'Wednesday': {'close': '17:00', 'open': '08:00'}, 'Thursday': {'close': '17:00', 'open': '08:00'}}\n",
      "------------------------------ \n",
      "Row2:\n",
      " {}\n",
      "------------------------------ \n",
      "Last row:\n",
      " {}\n",
      "\n",
      "\n",
      "\n",
      "Variable: neighborhoods\n",
      "------------------------------ \n",
      "Row1:\n",
      " []\n",
      "------------------------------ \n",
      "Row2:\n",
      " []\n",
      "------------------------------ \n",
      "Last row:\n",
      " ['Tollcross', 'Old Town']\n"
     ]
    }
   ],
   "source": [
    "# look into the variables with a unsurpported type warning from profiling to see what's going on\n",
    "\n",
    "# variable - attribute\n",
    "print(\"Variable: attribute\")\n",
    "print(\"-\"*30, \"\\nRow1:\\n\", df['attributes'][0])\n",
    "print(\"-\"*30, \"\\nRow2:\\n\", df['attributes'][1])\n",
    "print(\"-\"*30, \"\\nLast row:\\n\", df['attributes'][len(df['attributes'])-1])\n",
    "\n",
    "# variable - categories\n",
    "print(\"\\n\\n\\nVariable: categories\")\n",
    "print(\"-\"*30, \"\\nRow1:\\n\", df['categories'][0])\n",
    "print(\"-\"*30, \"\\nRow2:\\n\", df['categories'][1])\n",
    "print(\"-\"*30, \"\\nLast row:\\n\", df['categories'][len(df['categories'])-1])\n",
    "\n",
    "# variable - hours\n",
    "print(\"\\n\\n\\nVariable: hours\")\n",
    "print(\"-\"*30, \"\\nRow1:\\n\", df['hours'][0])\n",
    "print(\"-\"*30, \"\\nRow2:\\n\", df['hours'][1])\n",
    "print(\"-\"*30, \"\\nLast row:\\n\", df['hours'][len(df['hours'])-1])\n",
    "\n",
    "# variable - neighborhoods\n",
    "print(\"\\n\\n\\nVariable: neighborhoods\")\n",
    "print(\"-\"*30, \"\\nRow1:\\n\", df['neighborhoods'][0])\n",
    "print(\"-\"*30, \"\\nRow2:\\n\", df['neighborhoods'][1])\n",
    "print(\"-\"*30, \"\\nLast row:\\n\", df['neighborhoods'][len(df['neighborhoods'])-1])\n"
   ]
  },
  {
   "cell_type": "markdown",
   "metadata": {},
   "source": [
    "## Feature engineering\n",
    "\n",
    "The goal of this step is to find out which features contribute to the star rating. \n",
    "\n",
    "First, let's consider variable, city. The average star rating in some cities might be higher than others. Let's test this assumption by comparing the average ratings of different cities. "
   ]
  },
  {
   "cell_type": "code",
   "execution_count": 99,
   "metadata": {},
   "outputs": [
    {
     "data": {
      "text/html": [
       "<div>\n",
       "<style scoped>\n",
       "    .dataframe tbody tr th:only-of-type {\n",
       "        vertical-align: middle;\n",
       "    }\n",
       "\n",
       "    .dataframe tbody tr th {\n",
       "        vertical-align: top;\n",
       "    }\n",
       "\n",
       "    .dataframe thead th {\n",
       "        text-align: right;\n",
       "    }\n",
       "</style>\n",
       "<table border=\"1\" class=\"dataframe\">\n",
       "  <thead>\n",
       "    <tr style=\"text-align: right;\">\n",
       "      <th></th>\n",
       "      <th>attributes</th>\n",
       "      <th>categories</th>\n",
       "      <th>city</th>\n",
       "      <th>hours</th>\n",
       "      <th>latitude</th>\n",
       "      <th>longitude</th>\n",
       "      <th>name</th>\n",
       "      <th>neighborhoods</th>\n",
       "      <th>open</th>\n",
       "      <th>review_count</th>\n",
       "      <th>stars</th>\n",
       "      <th>state</th>\n",
       "      <th>id</th>\n",
       "    </tr>\n",
       "  </thead>\n",
       "  <tbody>\n",
       "    <tr>\n",
       "      <th>20361</th>\n",
       "      <td>{'Take-out': False, 'Good For': {'dessert': Fa...</td>\n",
       "      <td>[Burgers, Fast Food, Restaurants]</td>\n",
       "      <td>Ahwatukee</td>\n",
       "      <td>{}</td>\n",
       "      <td>33.348551</td>\n",
       "      <td>-111.975151</td>\n",
       "      <td>McDonald's</td>\n",
       "      <td>[]</td>\n",
       "      <td>False</td>\n",
       "      <td>7</td>\n",
       "      <td>2.0</td>\n",
       "      <td>AZ</td>\n",
       "      <td>20361</td>\n",
       "    </tr>\n",
       "    <tr>\n",
       "      <th>30499</th>\n",
       "      <td>{'By Appointment Only': True}</td>\n",
       "      <td>[Doctors, Health &amp; Medical, Pediatricians]</td>\n",
       "      <td>Ahwatukee</td>\n",
       "      <td>{'Tuesday': {'close': '18:30', 'open': '08:00'...</td>\n",
       "      <td>33.308087</td>\n",
       "      <td>-111.980076</td>\n",
       "      <td>Active Kids Pediatrics</td>\n",
       "      <td>[]</td>\n",
       "      <td>True</td>\n",
       "      <td>4</td>\n",
       "      <td>5.0</td>\n",
       "      <td>AZ</td>\n",
       "      <td>30499</td>\n",
       "    </tr>\n",
       "    <tr>\n",
       "      <th>1718</th>\n",
       "      <td>{'Parking': {'garage': False, 'street': False,...</td>\n",
       "      <td>[Health Markets, Food, Specialty Food]</td>\n",
       "      <td>Ahwatukee</td>\n",
       "      <td>{'Monday': {'close': '21:00', 'open': '09:00'}...</td>\n",
       "      <td>33.320339</td>\n",
       "      <td>-111.977310</td>\n",
       "      <td>Hi-Health</td>\n",
       "      <td>[]</td>\n",
       "      <td>True</td>\n",
       "      <td>4</td>\n",
       "      <td>2.5</td>\n",
       "      <td>AZ</td>\n",
       "      <td>1718</td>\n",
       "    </tr>\n",
       "    <tr>\n",
       "      <th>28608</th>\n",
       "      <td>{'Accepts Credit Cards': True}</td>\n",
       "      <td>[Local Services, Carpet Cleaning]</td>\n",
       "      <td>Ahwatukee</td>\n",
       "      <td>{'Monday': {'close': '17:00', 'open': '09:00'}...</td>\n",
       "      <td>33.342667</td>\n",
       "      <td>-111.983997</td>\n",
       "      <td>Healthy and Clean Living Environments</td>\n",
       "      <td>[]</td>\n",
       "      <td>True</td>\n",
       "      <td>4</td>\n",
       "      <td>4.5</td>\n",
       "      <td>AZ</td>\n",
       "      <td>28608</td>\n",
       "    </tr>\n",
       "    <tr>\n",
       "      <th>1740</th>\n",
       "      <td>{'Alcohol': 'beer_and_wine', 'Noise Level': 'a...</td>\n",
       "      <td>[Gastropubs, Wine Bars, Bars, Nightlife, Resta...</td>\n",
       "      <td>Ahwatukee</td>\n",
       "      <td>{'Monday': {'close': '22:00', 'open': '15:00'}...</td>\n",
       "      <td>33.333874</td>\n",
       "      <td>-111.977791</td>\n",
       "      <td>My Wine Cellar</td>\n",
       "      <td>[]</td>\n",
       "      <td>True</td>\n",
       "      <td>98</td>\n",
       "      <td>4.0</td>\n",
       "      <td>AZ</td>\n",
       "      <td>1740</td>\n",
       "    </tr>\n",
       "  </tbody>\n",
       "</table>\n",
       "</div>"
      ],
      "text/plain": [
       "                                              attributes  \\\n",
       "20361  {'Take-out': False, 'Good For': {'dessert': Fa...   \n",
       "30499                      {'By Appointment Only': True}   \n",
       "1718   {'Parking': {'garage': False, 'street': False,...   \n",
       "28608                     {'Accepts Credit Cards': True}   \n",
       "1740   {'Alcohol': 'beer_and_wine', 'Noise Level': 'a...   \n",
       "\n",
       "                                              categories       city  \\\n",
       "20361                  [Burgers, Fast Food, Restaurants]  Ahwatukee   \n",
       "30499         [Doctors, Health & Medical, Pediatricians]  Ahwatukee   \n",
       "1718              [Health Markets, Food, Specialty Food]  Ahwatukee   \n",
       "28608                  [Local Services, Carpet Cleaning]  Ahwatukee   \n",
       "1740   [Gastropubs, Wine Bars, Bars, Nightlife, Resta...  Ahwatukee   \n",
       "\n",
       "                                                   hours   latitude  \\\n",
       "20361                                                 {}  33.348551   \n",
       "30499  {'Tuesday': {'close': '18:30', 'open': '08:00'...  33.308087   \n",
       "1718   {'Monday': {'close': '21:00', 'open': '09:00'}...  33.320339   \n",
       "28608  {'Monday': {'close': '17:00', 'open': '09:00'}...  33.342667   \n",
       "1740   {'Monday': {'close': '22:00', 'open': '15:00'}...  33.333874   \n",
       "\n",
       "        longitude                                   name neighborhoods   open  \\\n",
       "20361 -111.975151                             McDonald's            []  False   \n",
       "30499 -111.980076                 Active Kids Pediatrics            []   True   \n",
       "1718  -111.977310                             Hi-Health             []   True   \n",
       "28608 -111.983997  Healthy and Clean Living Environments            []   True   \n",
       "1740  -111.977791                         My Wine Cellar            []   True   \n",
       "\n",
       "       review_count  stars state     id  \n",
       "20361             7    2.0    AZ  20361  \n",
       "30499             4    5.0    AZ  30499  \n",
       "1718              4    2.5    AZ   1718  \n",
       "28608             4    4.5    AZ  28608  \n",
       "1740             98    4.0    AZ   1740  "
      ]
     },
     "execution_count": 99,
     "metadata": {},
     "output_type": "execute_result"
    }
   ],
   "source": [
    "df_sorted = df.sort_values(by='city')\n",
    "df_sorted['id'] = df_sorted.index\n",
    "df_sorted.head()"
   ]
  },
  {
   "cell_type": "code",
   "execution_count": 105,
   "metadata": {
    "scrolled": true
   },
   "outputs": [
    {
     "data": {
      "text/html": [
       "<div>\n",
       "<style scoped>\n",
       "    .dataframe tbody tr th:only-of-type {\n",
       "        vertical-align: middle;\n",
       "    }\n",
       "\n",
       "    .dataframe tbody tr th {\n",
       "        vertical-align: top;\n",
       "    }\n",
       "\n",
       "    .dataframe thead th {\n",
       "        text-align: right;\n",
       "    }\n",
       "</style>\n",
       "<table border=\"1\" class=\"dataframe\">\n",
       "  <thead>\n",
       "    <tr style=\"text-align: right;\">\n",
       "      <th></th>\n",
       "      <th>city</th>\n",
       "      <th>counts</th>\n",
       "      <th>avg_stars</th>\n",
       "    </tr>\n",
       "  </thead>\n",
       "  <tbody>\n",
       "    <tr>\n",
       "      <th>0</th>\n",
       "      <td>Ahwatukee</td>\n",
       "      <td>8</td>\n",
       "      <td>3.687500</td>\n",
       "    </tr>\n",
       "    <tr>\n",
       "      <th>1</th>\n",
       "      <td>Anthem</td>\n",
       "      <td>55</td>\n",
       "      <td>3.781818</td>\n",
       "    </tr>\n",
       "    <tr>\n",
       "      <th>2</th>\n",
       "      <td>Apache Junction</td>\n",
       "      <td>80</td>\n",
       "      <td>3.637500</td>\n",
       "    </tr>\n",
       "    <tr>\n",
       "      <th>3</th>\n",
       "      <td>Arcadia</td>\n",
       "      <td>1</td>\n",
       "      <td>5.000000</td>\n",
       "    </tr>\n",
       "    <tr>\n",
       "      <th>4</th>\n",
       "      <td>Atlanta</td>\n",
       "      <td>1</td>\n",
       "      <td>3.500000</td>\n",
       "    </tr>\n",
       "  </tbody>\n",
       "</table>\n",
       "</div>"
      ],
      "text/plain": [
       "              city  counts  avg_stars\n",
       "0        Ahwatukee       8   3.687500\n",
       "1           Anthem      55   3.781818\n",
       "2  Apache Junction      80   3.637500\n",
       "3          Arcadia       1   5.000000\n",
       "4          Atlanta       1   3.500000"
      ]
     },
     "execution_count": 105,
     "metadata": {},
     "output_type": "execute_result"
    }
   ],
   "source": [
    "# Create a new dataframe df_city to contain the unique city names and each city's average star rating\n",
    "\n",
    "#get unique city names\n",
    "df_city = pd.DataFrame(df_sorted['city'].unique().tolist(), columns = ['city'])\n",
    "#get the total counts for each unique city\n",
    "df_city['counts'] = [i for i in df_sorted.groupby('city')['id'].nunique()]\n",
    "#average star rating\n",
    "df_city['avg_stars'] = [i for i in df_sorted.groupby('city')['stars'].mean()]\n",
    "\n",
    "df_city.head()"
   ]
  },
  {
   "cell_type": "code",
   "execution_count": 171,
   "metadata": {},
   "outputs": [
    {
     "name": "stdout",
     "output_type": "stream",
     "text": [
      "There are a total of 167 cities\n",
      "The mean of average star rating is: 3.71\n",
      "The standard deviation is: 0.58\n"
     ]
    }
   ],
   "source": [
    "n_city = len(df_city['city'])\n",
    "mu = df_city_sorted['avg_stars'].mean()\n",
    "sigma = df_city_sorted['avg_stars'].std()\n",
    "\n",
    "print(\"There are a total of %d cities\" % n_city)\n",
    "print(\"The mean of average star rating is:\", round(mu,2))\n",
    "print(\"The standard deviation is:\", round(sigma,2))"
   ]
  },
  {
   "cell_type": "code",
   "execution_count": 161,
   "metadata": {
    "scrolled": true
   },
   "outputs": [
    {
     "data": {
      "image/png": "[encoded data removed]",
      "text/plain": [
       "<Figure size 648x432 with 1 Axes>"
      ]
     },
     "metadata": {},
     "output_type": "display_data"
    }
   ],
   "source": [
    "plt.figure(figsize=(9, 6))\n",
    "\n",
    "plt.hist(df_city_sorted['avg_stars'], [1, 1.5, 2, 2.5, 3, 3.5, 4, 4.5, 5], alpha=0.85)\n",
    "\n",
    "plt.title('Histogram of average star ratings', fontsize=24, color='blue')\n",
    "plt.ylabel('Counts', fontsize=18, color='black')\n",
    "plt.xlabel('Average star rating', fontsize=18, color='black')\n",
    "\n",
    "plt.text(1.5, 50, r'$\\mu=3.71,\\ \\sigma=0.58$', fontsize=18, color='blue')\n",
    "\n",
    "plt.show()"
   ]
  },
  {
   "cell_type": "markdown",
   "metadata": {},
   "source": [
    "##### Here we can that the average star rating per city mostly varies from 3 to 5, with a mean of 3.71. Only in a few extreme cases, where the average rating of those cities is below 2. "
   ]
  },
  {
   "cell_type": "code",
   "execution_count": 167,
   "metadata": {},
   "outputs": [
    {
     "data": {
      "image/png": "[encoded data removed]",
      "text/plain": [
       "<Figure size 432x288 with 1 Axes>"
      ]
     },
     "metadata": {},
     "output_type": "display_data"
    }
   ],
   "source": [
    "# plot the average rating of the top 10 cities with the most venues on yelp \n",
    "df_city_sorted = df_city.sort_values(by=['counts','avg_stars'], ascending=False)\n",
    "ax = df_city_sorted[:10].plot.bar(x='city', y='avg_stars', rot=45, fontsize=14)"
   ]
  },
  {
   "cell_type": "code",
   "execution_count": 169,
   "metadata": {},
   "outputs": [
    {
     "data": {
      "image/png": "[encoded data removed]",
      "text/plain": [
       "<Figure size 432x288 with 1 Axes>"
      ]
     },
     "metadata": {},
     "output_type": "display_data"
    }
   ],
   "source": [
    "# plot the average rating of the top 10 cities with the higher rating on yelp\n",
    "df_city_sorted = df_city.sort_values(by=['avg_stars', 'counts'], ascending=False)\n",
    "ax = df_city_sorted[:10].plot.bar(x='city', y='avg_stars', rot=45, fontsize=14)"
   ]
  },
  {
   "cell_type": "markdown",
   "metadata": {},
   "source": [
    "## build a model that make prediction of rating based on city \n",
    "In this step, a custom estimator is built to make prediction based solely on the city where a restaurant locates. The estimator will receive data as its argument X and star_rating as y. Two methods are included in this estimator: the .fit() method and the .predict() method. "
   ]
  },
  {
   "cell_type": "code",
   "execution_count": null,
   "metadata": {},
   "outputs": [],
   "source": [
    "class CityEstimator(base.BaseEstimator, base.RegressorMixin):\n",
    "    \n",
    "    def __init__(self):\n",
    "        self.avg_stars = dict()\n",
    "    \n",
    "    def fit(self, X, y):\n",
    "        \"\"\"X is the data and y is the star_rating\"\"\"\n",
    "        for row, stars in zip(X, y):\n",
    "            star_sum[row['city']] += stars\n",
    "            count[row['city']] += 1\n",
    "            \n",
    "        # calculate the average star rating for each city         \n",
    "        avg_stars = dict()\n",
    "        for city in star_sum:\n",
    "            if count[city] == 0:\n",
    "                avg_stars[city] = 0\n",
    "            else: \n",
    "                avg_stars[city] = star_sum[city]/count[city]\n",
    "    \n",
    "        # Store the average rating per city in self.avg_stars\n",
    "        self.avg_stars = avg_stars\n",
    "        return self\n",
    "    \n",
    "    def predict(self, X, y=None):\n",
    "        return [self.avg_stars[row['city']] for row in X if row['city'] in self.avg_stars]"
   ]
  },
  {
   "cell_type": "markdown",
   "metadata": {},
   "source": [
    "Now we can create an instance of our estimator and train it."
   ]
  },
  {
   "cell_type": "code",
   "execution_count": null,
   "metadata": {},
   "outputs": [],
   "source": [
    "city_est = CityEstimator()\n",
    "city_est.fit(data, star_ratings)"
   ]
  },
  {
   "cell_type": "markdown",
   "metadata": {},
   "source": [
    "And let's see if it works."
   ]
  },
  {
   "cell_type": "code",
   "execution_count": null,
   "metadata": {},
   "outputs": [],
   "source": [
    "city_est.predict(data[:5])"
   ]
  },
  {
   "cell_type": "markdown",
   "metadata": {},
   "source": [
    "There is a problem, however.  What happens if we're asked to estimate the rating of a venue in a city that's not in our training set?"
   ]
  },
  {
   "cell_type": "code",
   "execution_count": null,
   "metadata": {},
   "outputs": [],
   "source": [
    "city_est.predict([{'city': 'Timbuktu'}])"
   ]
  },
  {
   "cell_type": "markdown",
   "metadata": {},
   "source": [
    "Solve this problem before submitting to the grader."
   ]
  },
  {
   "cell_type": "markdown",
   "metadata": {},
   "source": [
    "## lat_long_model"
   ]
  },
  {
   "cell_type": "markdown",
   "metadata": {},
   "source": [
    "You can imagine that a city-based model might not be sufficiently fine-grained. For example, we know that some neighborhoods are trendier than others.  Use the latitude and longitude of a venue as features that help you understand neighborhood dynamics.\n",
    "\n",
    "Instead of writing a custom estimator, we'll use one of the built-in estimators in Scikit Learn.  Since these estimators won't know what to do with a list of dictionaries, we'll build a `ColumnSelectTransformer` that will return an array containing selected keys of our feature matrix.  While it is tempting to hard-code the latitude and longitude in here, this transformer will be more useful in the future if we write it to work on an arbitrary list of columns."
   ]
  },
  {
   "cell_type": "code",
   "execution_count": null,
   "metadata": {},
   "outputs": [],
   "source": [
    "class ColumnSelectTransformer(base.BaseEstimator, base.TransformerMixin):\n",
    "    \n",
    "    def __init__(self, col_names):\n",
    "        self.col_names = col_names  # We will need these in transform()\n",
    "    \n",
    "    def fit(self, X, y=None):\n",
    "        # This transformer doesn't need to learn anything about the data,\n",
    "        # so it can just return self without any further processing\n",
    "        return self\n",
    "    \n",
    "    def transform(self, X):\n",
    "        # Return an array with the same number of rows as X and one\n",
    "        # column for each in self.col_names\n",
    "        return [[row[col_name] for col_name in self.col_names] for row in X]"
   ]
  },
  {
   "cell_type": "markdown",
   "metadata": {},
   "source": [
    "Let's test it on a single row, just as a sanity check:"
   ]
  },
  {
   "cell_type": "code",
   "execution_count": null,
   "metadata": {},
   "outputs": [],
   "source": [
    "cst = ColumnSelectTransformer(['latitude', 'longitude'])\n",
    "assert (cst.fit_transform(data[:1])\n",
    "        == [[data[0]['latitude'], data[0]['longitude']]])"
   ]
  },
  {
   "cell_type": "markdown",
   "metadata": {},
   "source": [
    "Now, let's feed the output of the transformer in to a `sklearn.neighbors.KNeighborsRegressor`.  As a sanity check, we'll test it with the first 5 rows.  To truly judge the performance, we'd need to make a test/train split."
   ]
  },
  {
   "cell_type": "code",
   "execution_count": null,
   "metadata": {},
   "outputs": [],
   "source": [
    "from sklearn.neighbors import KNeighborsRegressor\n",
    "\n",
    "data_transform = cst.fit_transform(data)\n",
    "knn = KNeighborsRegressor(n_neighbors=5)\n",
    "knn.fit(data_transform, star_ratings)\n",
    "test_data = data[:5]\n",
    "test_data_transform = cst.transform(test_data)\n",
    "knn.predict(test_data_transform)"
   ]
  },
  {
   "cell_type": "markdown",
   "metadata": {},
   "source": [
    "Instead of doing this by hand, let's make a pipeline.  Remember that a pipeline is made with a list of (name, transformer-or-estimator) tuples. "
   ]
  },
  {
   "cell_type": "code",
   "execution_count": null,
   "metadata": {},
   "outputs": [],
   "source": [
    "from sklearn.pipeline import Pipeline\n",
    "\n",
    "pipe = Pipeline([('cst', ColumnSelectTransformer(['latitude', 'longitude'])),\n",
    "                       ('knn', KNeighborsRegressor(n_neighbors=5))])\n",
    "\n",
    "# This should work the same way.\n",
    "pipe.fit(data, star_ratings)\n",
    "pipe.predict(test_data)"
   ]
  },
  {
   "cell_type": "markdown",
   "metadata": {},
   "source": [
    "The `KNeighborsRegressor` takes the `n_neighbors` hyperparameter, which tells it how many nearest neighbors to average together when making a prediction.  There is no reason to believe that 5 is the optimum value.  Determine a better value of this hyperparameter.   There are several ways to do this:\n",
    "\n",
    "1. Use [`train_test_split`](http://scikit-learn.org/stable/modules/generated/sklearn.model_selection.train_test_split.html#sklearn.model_selection.train_test_split) to split your data in to a training set and a test set.  Score the performance on the test set.  After finding the best hyperparameter, retrain the model on the full data at that hyperparameter value.\n",
    "\n",
    "2. Use [`cross_val_score`](http://scikit-learn.org/stable/modules/generated/sklearn.model_selection.cross_val_score.html#sklearn.model_selection.cross_val_score) to return cross-validation scores on your data for various values of the hyperparameter.  Choose the best one, and retrain the model on the full data.\n",
    "\n",
    "3. Use [`GridSearchCV`](http://scikit-learn.org/stable/modules/generated/sklearn.model_selection.GridSearchCV.html#sklearn.model_selection.GridSearchCV) to do the splitting, training, and grading automatically.  `GridSearchCV` takes an estimator and acts as an estimator.  You can either give it the `KNeighborsRegressor` directly and put it in a pipeline, or you can pass the whole pipeline into the `GridSearchCV`.  In the latter case, remember that the hyperparameter `param` of an estimator named `est` in a pipeline becomes a hyperparameter of the pipeline with name `est__param`.\n",
    "\n",
    "No matter which you choose, you should consider whether the data need to be shuffled.  The default k-folds split doesn't shuffle.  This is fine, if the data are already random.  The code below will plot a rolling mean of the star ratings.  Do you need to shuffle the data?"
   ]
  },
  {
   "cell_type": "code",
   "execution_count": null,
   "metadata": {},
   "outputs": [],
   "source": [
    "from pandas import Series\n",
    "import matplotlib.pyplot as plt\n",
    "\n",
    "plt.plot(Series.rolling(Series(star_ratings), window=1000).mean())"
   ]
  },
  {
   "cell_type": "markdown",
   "metadata": {},
   "source": [
    "Once you've found a good value of `n_neighbors`, submit the model to the grader.  (*N.B.* \"Good\" is a relative measure here.  The reference solution has a r-squared value of only 0.02.  There is just rather little signal available for modeling.)"
   ]
  },
  {
   "cell_type": "markdown",
   "metadata": {},
   "source": [
    "#### Hyper-tuning using train_test_split"
   ]
  },
  {
   "cell_type": "code",
   "execution_count": null,
   "metadata": {},
   "outputs": [],
   "source": [
    "import numpy as np\n",
    "from sklearn.utils import shuffle\n",
    "from sklearn.model_selection import train_test_split\n",
    "\n",
    "# train on a KneighborsRegressor\n",
    "def hypertuning_knn(X, y, list_n_neighbors):\n",
    "    scores_param = {}\n",
    "    for n in list_n_neighbors:\n",
    "        pipe = Pipeline([('cst', ColumnSelectTransformer(['latitude', 'longitude'])),\n",
    "                           ('knn', KNeighborsRegressor(n_neighbors=n))])\n",
    "\n",
    "        # split the data into training and test set\n",
    "        X_train, X_test, y_train, y_test = train_test_split(X, y, test_size=0.3, random_state=42)\n",
    "\n",
    "        pipe.fit(X_train, y_train)\n",
    "        scores_param[n] = pipe.score(X_test, y_test)\n",
    "    return scores_param\n",
    "    \n",
    "\n",
    "scores_param = hypertuning_knn(data, star_ratings, list_n_neighbors=[1,3,5,7,9,11,15,21,51])\n",
    "print(scores_param)"
   ]
  },
  {
   "cell_type": "code",
   "execution_count": null,
   "metadata": {},
   "outputs": [],
   "source": [
    "est.get_params().keys()"
   ]
  },
  {
   "cell_type": "code",
   "execution_count": null,
   "metadata": {},
   "outputs": [],
   "source": [
    "from sklearn.model_selection import GridSearchCV\n",
    "\n",
    "cst = ColumnSelectTransformer(['latitude', 'longitude'])\n",
    "X = cst.fit_transform(data)\n",
    "\n",
    "knn = KNeighborsRegressor()\n",
    "gs = GridSearchCV(knn, {'n_neighbors':range(65,200)}, cv=5, n_jobs=2, scoring='neg_mean_squared_error')\n",
    "gs.fit(X, star_ratings)"
   ]
  },
  {
   "cell_type": "code",
   "execution_count": null,
   "metadata": {},
   "outputs": [],
   "source": [
    "sorted(gs.cv_results_.keys())"
   ]
  },
  {
   "cell_type": "code",
   "execution_count": null,
   "metadata": {},
   "outputs": [],
   "source": [
    "print(gs.best_estimator_.score(X,star_ratings))"
   ]
  },
  {
   "cell_type": "code",
   "execution_count": null,
   "metadata": {},
   "outputs": [],
   "source": [
    "print (gs.best_params_)"
   ]
  },
  {
   "cell_type": "code",
   "execution_count": null,
   "metadata": {},
   "outputs": [],
   "source": [
    "knn = KNeighborsRegressor()\n",
    "knn.get_params().keys()"
   ]
  },
  {
   "cell_type": "code",
   "execution_count": null,
   "metadata": {},
   "outputs": [],
   "source": [
    "!ls ../week2/\n",
    "#http://localhost:8888/notebooks/Documents/JL/DS/Mini%20challenges/week2/ml-Tandhui.ipynb"
   ]
  },
  {
   "cell_type": "code",
   "execution_count": null,
   "metadata": {},
   "outputs": [],
   "source": [
    "from sklearn.ensemble import RandomForestRegressor\n",
    "\n",
    "rfr = RandomForestRegressor()\n",
    "\n",
    "# train on a RandomForestRegressor\n",
    "def hypertuning_rfr(X, y, n_estimators):\n",
    "    scores_param = {}\n",
    "    for n in n_estimators:\n",
    "        pipe = Pipeline([('cst', ColumnSelectTransformer(['latitude', 'longitude'])),\n",
    "                           ('rfr', RandomForestRegressor(n))])\n",
    "\n",
    "        # split the data into training and test set\n",
    "        X_train, X_test, y_train, y_test = train_test_split(X, y, test_size=0.3, random_state=42)\n",
    "\n",
    "        pipe.fit(X_train, y_train)\n",
    "        scores_param[n] = pipe.score(X_test, y_test)\n",
    "    return scores_param\n",
    "    "
   ]
  },
  {
   "cell_type": "code",
   "execution_count": null,
   "metadata": {
    "scrolled": true
   },
   "outputs": [],
   "source": [
    "scores_param = hypertuning_rfr(data, star_ratings, n_estimators=[20,300])\n",
    "print(scores_param)"
   ]
  },
  {
   "cell_type": "code",
   "execution_count": null,
   "metadata": {},
   "outputs": [],
   "source": [
    "### Hyper-tuning cross_val_score\n",
    "from sklearn.model_selection import cross_val_score\n",
    "import pandas as pd\n",
    "\n",
    "# train on a KneighborsRegressor\n",
    "def hypertuning_knn_cv(X, y, list_cv, list_n_neighbors):\n",
    "    #scores_param = pd.DataFrame(columns=['cv', 'n_neighbors','score'])\n",
    "    scores_param = []\n",
    "    for n in list_cv:\n",
    "        for m in list_n_neighbors:\n",
    "            pipe = Pipeline([('cst', ColumnSelectTransformer(['latitude', 'longitude'])),\n",
    "                               ('knn', KNeighborsRegressor(n_neighbors=m))])\n",
    "            pipe.fit(X, y)\n",
    "            score = cross_val_score(pipe, X, y, cv=n)\n",
    "            scores_param.append(score)\n",
    "    return scores_param   "
   ]
  },
  {
   "cell_type": "code",
   "execution_count": null,
   "metadata": {},
   "outputs": [],
   "source": [
    "scores_param = hypertuning_knn_cv(data, star_ratings, list_cv = [3,5], list_n_neighbors=[3,5,7,15])\n",
    "print(scores_param)"
   ]
  },
  {
   "cell_type": "markdown",
   "metadata": {},
   "source": [
    "*Item for thought:* Why do we choose a non-linear model for this estimator?\n",
    "\n",
    "*Extension:* Use a `sklearn.ensemble.RandomForestRegressor`, which is a more powerful non-linear model.  Can you get better performance with this than with the `KNeighborsRegressor`?"
   ]
  },
  {
   "cell_type": "markdown",
   "metadata": {},
   "source": [
    "## category_model"
   ]
  },
  {
   "cell_type": "markdown",
   "metadata": {},
   "source": [
    "While location is important, we could also try seeing how predictive the\n",
    "venue's category is.  Build an estimator that considers only the categories.\n",
    "\n",
    "The categories come as a list of strings, but the built-in estimators all need numeric input.  The standard way to deal with categorical features is **one-hot encoding**, also known as dummy variables.  In this approach, each category gets its own column in the feature matrix.  If the row has a given category, that column gets filled with a 1.  Otherwise, it is 0.\n",
    "\n",
    "The `ColumnSelectTransformer` from the previous question can be used to extract the categories column as a list of strings.  Scikit Learn provides [`DictVectorizer`](http://scikit-learn.org/stable/modules/generated/sklearn.feature_extraction.DictVectorizer.html#sklearn.feature_extraction.DictVectorizer), which takes in a list of dictionaries.  It creates a column in the output matrix for each key in the dictionary and fills it with the value associated with it.  Missing keys are filled with zeros.  Therefore, we need only build a transformer that takes a list of strings to a dictionary with keys given by those strings and values of one."
   ]
  },
  {
   "cell_type": "code",
   "execution_count": null,
   "metadata": {},
   "outputs": [],
   "source": [
    "print(data[0])\n",
    "cat = ColumnSelectTransformer(['categories'])\n",
    "categories_lis = cat.fit_transform(data)\n",
    "\n",
    "print(\"-\"*25, \"\\nThis is a few examples of extracted data:\", categories_lis[:3])\n",
    "print(\"-\"*25, \"\\nThere are a total of %d category entries\" % len(categories_lis))"
   ]
  },
  {
   "cell_type": "code",
   "execution_count": null,
   "metadata": {},
   "outputs": [],
   "source": [
    "class DictEncoder(base.BaseEstimator, base.TransformerMixin):\n",
    "    \n",
    "    def fit(self, X, y=None):\n",
    "        return self\n",
    "    \n",
    "    def transform(self, X):\n",
    "        # X will come in as a list of lists of lists.  Return a list of\n",
    "        # dictionaries corresponding to those inner lists.\n",
    "        cat_encoded =  [{i:1 for i in row[0]} for row in X]\n",
    "        return cat_encoded"
   ]
  },
  {
   "cell_type": "markdown",
   "metadata": {},
   "source": [
    "That should allow this to pass:"
   ]
  },
  {
   "cell_type": "code",
   "execution_count": null,
   "metadata": {},
   "outputs": [],
   "source": [
    "assert (DictEncoder().fit_transform([[['a']], [['b', 'c']]])\n",
    "        == [{'a': 1}, {'b': 1, 'c': 1}])"
   ]
  },
  {
   "cell_type": "code",
   "execution_count": null,
   "metadata": {},
   "outputs": [],
   "source": [
    "encoder = DictEncoder()\n",
    "categories_encoded = encoder.fit_transform(categories_lis)\n",
    "\n",
    "print(\"Here are the first three examples of encoded category data:\\n\", categories_encoded[:2])"
   ]
  },
  {
   "cell_type": "markdown",
   "metadata": {},
   "source": [
    "Set up a pipeline with your `ColumnSelectTransformer`, your `DictEncoder`, the `DictVectorizer`, and a regularized linear model, like `Ridge`, as the estimator.  This model will have a large number of features, one for each category, so there is a significant danger of overfitting.  Use cross validation to choose the best regularization parameter."
   ]
  },
  {
   "cell_type": "code",
   "execution_count": null,
   "metadata": {},
   "outputs": [],
   "source": [
    "from sklearn.feature_extraction import DictVectorizer\n",
    "from sklearn.feature_extraction.text import TfidfTransformer\n",
    "from sklearn.linear_model import Ridge\n",
    "\n",
    "dict_vect = DictVectorizer()\n",
    "tfidf = TfidfTransformer()\n",
    "rdg = Ridge()\n",
    "\n",
    "\n",
    "def hypertuning_reg(X, y, list_cv, list_reg):\n",
    "    scores_param = []\n",
    "    for n in list_cv:\n",
    "        for alpha in list_reg:\n",
    "            pipe = Pipeline([('cat', ColumnSelectTransformer(['categories'])),\n",
    "                             ('encoder', DictEncoder()),\n",
    "                             ('dict_vect', DictVectorizer()),\n",
    "                               ('rdg', Ridge(alpha = alpha))])\n",
    "            pipe.fit(X, y)\n",
    "            score = cross_val_score(pipe, X, y, cv=n)\n",
    "            scores_param.append(score)\n",
    "    return scores_param\n",
    "\n",
    "\n",
    "def hypertuning_reg_with_tfidf(X, y, list_cv, list_reg):\n",
    "    scores_param = []\n",
    "    for n in list_cv:\n",
    "        for alpha in list_reg:\n",
    "            pipe = Pipeline([('cat', ColumnSelectTransformer(['categories'])),\n",
    "                             ('encoder', DictEncoder()),\n",
    "                             ('dict_vect', DictVectorizer()),\n",
    "                             ('tfidf', TfidfTransformer()),\n",
    "                               ('rdg', Ridge(alpha = alpha))])\n",
    "            pipe.fit(X, y)\n",
    "            score = cross_val_score(pipe, X, y, cv=n)\n",
    "            scores_param.append(score)\n",
    "    return scores_param"
   ]
  },
  {
   "cell_type": "code",
   "execution_count": null,
   "metadata": {},
   "outputs": [],
   "source": [
    "scores_param = hypertuning_reg(data, star_ratings, list_cv = [3,5], list_reg=[1000.0, 2000.0, 5000.0])\n",
    "print(\"hypertuning:\\n\")"
   ]
  },
  {
   "cell_type": "code",
   "execution_count": null,
   "metadata": {},
   "outputs": [],
   "source": [
    "for row in scores_param:\n",
    "    print(\"average score is: \", np.mean(row, dtype=np.float64))"
   ]
  },
  {
   "cell_type": "code",
   "execution_count": null,
   "metadata": {},
   "outputs": [],
   "source": [
    "scores_param = hypertuning_reg_with_tfidf(data, star_ratings, list_cv = [3,5], list_reg=[1000.0, 2000.0, 5000.0])\n",
    "print(\"hypertuning:\\n\")\n",
    "for row in scores_param:\n",
    "    print(\"average score is: \", np.mean(row, dtype=np.float64))"
   ]
  },
  {
   "cell_type": "code",
   "execution_count": null,
   "metadata": {},
   "outputs": [],
   "source": [
    "grader.score('ml__category_model', category_est.predict)  # Edit to appropriate name"
   ]
  },
  {
   "cell_type": "markdown",
   "metadata": {},
   "source": [
    "*Extension:* Some categories (e.g. Restaurants) are not very specific.  Others (Japanese sushi) are much more so.  One way to deal with this is with an measure call term-frequency-inverse-document-frequency (TF-IDF).  Add in a `sklearn.feature_extraction.text.TfidfTransformer` between the `DictVectorizer` and the linear model, and see if that improves performance.\n",
    "\n",
    "*Extension:* Can you beat the performance of the linear estimator with a\n",
    "non-linear model?"
   ]
  },
  {
   "cell_type": "markdown",
   "metadata": {},
   "source": [
    "## attribute_model"
   ]
  },
  {
   "cell_type": "markdown",
   "metadata": {},
   "source": [
    "There is even more information in the attributes for each venue.  Let's build an estimator based on these.\n",
    "\n",
    "Venues attributes may be nested:\n",
    "```\n",
    "{\n",
    "  'Attire': 'casual',\n",
    "  'Accepts Credit Cards': True,\n",
    "  'Ambiance': {'casual': False, 'classy': False}\n",
    "}\n",
    "```\n",
    "We wish to encode them with one-hot encoding.  The `DictVectorizer` can do this, but only once we've flattened the dictionary to a single level, like so:\n",
    "```\n",
    "{\n",
    "  'Attire_casual' : 1,\n",
    "  'Accepts Credit Cards': 1,\n",
    "  'Ambiance_casual': 0,\n",
    "  'Ambiance_classy': 0\n",
    "}\n",
    "```\n",
    "\n",
    "Build a custom transformer that flattens the attributes dictionary.  Place this in a pipeline with a `DictVectorizer` and a regressor.\n",
    "\n",
    "You may find it difficult to find a single regressor that does well enough.  A common solution is to use a linear model to fit the linear part of some data, and use a non-linear model to fit the residual that the linear model can't fit.  Build a residual estimator that takes as an argument two other estimators.  It should use the first to fit the raw data and the second to fit the residuals of the first."
   ]
  },
  {
   "cell_type": "code",
   "execution_count": null,
   "metadata": {},
   "outputs": [],
   "source": [
    "class FlattenTransformer(base.BaseEstimator, base.TransformerMixin):\n",
    "    \n",
    "    def __init__(self):\n",
    "        return None  # We will need these in transform()\n",
    "    \n",
    "    def fit(self, X, y=None):\n",
    "        # This transformer doesn't need to learn anything about the data,\n",
    "        # so it can just return self without any further processing\n",
    "        return self\n",
    "    \n",
    "    def transform(self, X):\n",
    "        attri_flat = []\n",
    "        for row in X:\n",
    "            attri_dict = {}\n",
    "            for key, values in row[0].items():\n",
    "                if isinstance(values, dict):\n",
    "                    for values_key, values_value in values.items():\n",
    "                        attri_dict[key + '_' + values_key] = values_value\n",
    "                else:\n",
    "                    attri_dict[key] = values\n",
    "            attri_flat.append(attri_dict)\n",
    "        return attri_flat"
   ]
  },
  {
   "cell_type": "code",
   "execution_count": null,
   "metadata": {},
   "outputs": [],
   "source": [
    "pipe = Pipeline([('attri_cst', ColumnSelectTransformer(['attributes'])),\n",
    "                             ('ft', FlattenTransformer()),\n",
    "                             ('dict_vect', DictVectorizer()),\n",
    "                               ('rdg', Ridge(alpha = 1.0))\n",
    "                ])\n",
    "pipe.fit(data, star_ratings)\n",
    "score = cross_val_score(pipe, data, star_ratings, cv=5)\n",
    "\n",
    "\n",
    "print(\"Average score is: \", sum(score)/len(score))"
   ]
  },
  {
   "cell_type": "code",
   "execution_count": null,
   "metadata": {},
   "outputs": [],
   "source": [
    "### Linear and non-linear modeling \n",
    "pipe = Pipeline([('attri_cst', ColumnSelectTransformer(['attributes'])),\n",
    "                 ('ft', flattenTransformer()),\n",
    "                 ('dict_vect', DictVectorizer()),\n",
    "                 ('rdg', Ridge(alpha = 1.0))\n",
    "                 ])\n",
    "pipe.fit(data, star_ratings)\n",
    "accuracy = cross_val_score(pipe, data, star_ratings, scoring='accuracy', cv=5)\n",
    "print(\"Average score is: \", sum(score)/len(score))"
   ]
  },
  {
   "cell_type": "code",
   "execution_count": null,
   "metadata": {},
   "outputs": [],
   "source": [
    "import numpy as np \n",
    "y_pred = pipe.predict(data)\n",
    "print(y_pred[:10])\n",
    "y_error = star_ratings - y_pred\n",
    "# y_error = abs(diff.astype(float))\n",
    "print(y_error[:10])\n",
    "print(type(y_error))"
   ]
  },
  {
   "cell_type": "code",
   "execution_count": null,
   "metadata": {},
   "outputs": [],
   "source": [
    "from sklearn.ensemble import RandomForestRegressor\n",
    "from sklearn.linear_model import Ridge"
   ]
  },
  {
   "cell_type": "code",
   "execution_count": null,
   "metadata": {},
   "outputs": [],
   "source": [
    "class ModelTransformer(base.BaseEstimator, base.TransformerMixin):\n",
    "    \n",
    "    def __init__(self, linearmodel, nonlinearmodel):\n",
    "        self.linearmodel = linearmodel\n",
    "        self.nonlinearmodel = nonlinearmodel\n",
    "        return None\n",
    "    \n",
    "    def fit(self, X, y):\n",
    "        # When fit() is called, the estimator should be fit. \n",
    "        self.linearmodel.fit(X,y)\n",
    "        y_res = y - self.linearmodel.predict(X)\n",
    "        self.nonlinearmodel.fit(X,y_res)\n",
    "        self.y_res = y_res\n",
    "#         print(y_res.shape())\n",
    "        #assert self.y_res.shape() == y.shape()\n",
    "        return self \n",
    "    \n",
    "    def score(self, X, y):\n",
    "        score = (self.linearmodel.score(X, y) + self.nonlinearmodel.score(X,self.y_res))/2\n",
    "        return score\n",
    "    \n",
    "    def predict(self, X):\n",
    "        y_pred = self.linearmodel.predict(X) + self.nonlinearmodel.predict(X)\n",
    "        return y_pred\n",
    "    "
   ]
  },
  {
   "cell_type": "code",
   "execution_count": null,
   "metadata": {},
   "outputs": [],
   "source": [
    "pipe2 = Pipeline([('attri_cst', ColumnSelectTransformer(['attributes'])),\n",
    "                  ('ft', flattenTransformer()),\n",
    "                  ('dict_vect', DictVectorizer()),\n",
    "                  ('mt', ModelTransformer(Ridge(), RandomForestRegressor()))\n",
    "                  ])\n",
    "\n",
    "pipe2.fit(data, star_ratings)"
   ]
  },
  {
   "cell_type": "code",
   "execution_count": null,
   "metadata": {},
   "outputs": [],
   "source": [
    "pipe2.score(data, star_ratings)"
   ]
  },
  {
   "cell_type": "code",
   "execution_count": null,
   "metadata": {},
   "outputs": [],
   "source": [
    "score = cross_val_score(pipe2, data, star_ratings, cv=5)\n",
    "\n",
    "\n",
    "print(\"Average score is: \", score.mean())"
   ]
  },
  {
   "cell_type": "markdown",
   "metadata": {},
   "source": [
    "## full model \n",
    "So far we have only built models based on individual features.  Now we will build an ensemble regressor that averages together the estimates of the four previous regressors.\n",
    "\n",
    "In order to use the existing models as input to an estimator, we will have to turn them into transformers.  (A pipeline can contain at most a single estimator.)  Build a custom `ModelTransformer` class that takes an estimator as an argument.  When `fit()` is called, the estimator should be fit.  When `transform()` is called, the estimator's `predict()` method should be called, and its results returned.\n",
    "\n",
    "Note that the output of the `transform()` method should be a 2-D array with a single column, in order for it to work well with the Scikit Learn pipeline.  If you're using NumPy arrays, you can use `.reshape(-1, 1)` to create a column vector.  If you are just using Python lists, you will want a list of lists of single elements."
   ]
  },
  {
   "cell_type": "code",
   "execution_count": null,
   "metadata": {},
   "outputs": [],
   "source": [
    "class EstimatorTransformer(base.BaseEstimator, base.TransformerMixin):\n",
    "    \n",
    "    def __init__(self, estimator):\n",
    "        # What needs to be done here?\n",
    "    \n",
    "    def fit(self, X, y):\n",
    "        # Fit the stored estimator.\n",
    "        # Question: what should be returned?\n",
    "    \n",
    "    def transform(self, X):\n",
    "        # Use predict on the stored estimator as a \"transformation\".\n",
    "        # Be sure to return a 2-D array."
   ]
  },
  {
   "cell_type": "markdown",
   "metadata": {},
   "source": [
    "This should work as follows:"
   ]
  },
  {
   "cell_type": "code",
   "execution_count": null,
   "metadata": {},
   "outputs": [],
   "source": [
    "city_trans = EstimatorTransformer(city_est)\n",
    "city_trans.fit(data, star_ratings)\n",
    "assert ([r[0] for r in city_trans.transform(data[:5])]\n",
    "        == city_est.predict(data[:5]))"
   ]
  },
  {
   "cell_type": "markdown",
   "metadata": {},
   "source": [
    "Create an instance of `ModelTransformer` for each of the previous four models. Combine these together in a single feature matrix with a\n",
    "[`FeatureUnion`](http://scikit-learn.org/stable/modules/generated/sklearn.pipeline.FeatureUnion.html#sklearn.pipeline.FeatureUnion)."
   ]
  },
  {
   "cell_type": "code",
   "execution_count": null,
   "metadata": {},
   "outputs": [],
   "source": [
    "from sklearn.pipeline import FeatureUnion\n",
    "\n",
    "union = FeatureUnion([\n",
    "        # FeatureUnions use the same syntax as Pipelines\n",
    "    ])"
   ]
  },
  {
   "cell_type": "markdown",
   "metadata": {},
   "source": [
    "This should return a feature matrix with four columns."
   ]
  },
  {
   "cell_type": "code",
   "execution_count": null,
   "metadata": {},
   "outputs": [],
   "source": [
    "union.fit(data, star_ratings)\n",
    "trans_data = union.transform(data[:10])\n",
    "assert trans_data.shape == (10, 4)"
   ]
  },
  {
   "cell_type": "markdown",
   "metadata": {},
   "source": [
    "Finally, use a pipeline to combine the feature union with a linear regression (or another model) to weight the predictions."
   ]
  },
  {
   "cell_type": "code",
   "execution_count": null,
   "metadata": {},
   "outputs": [],
   "source": []
  },
  {
   "cell_type": "code",
   "execution_count": null,
   "metadata": {},
   "outputs": [],
   "source": [
    "grader.score('ml__full_model', full_est.predict)  # Edit to appropriate name"
   ]
  },
  {
   "cell_type": "markdown",
   "metadata": {},
   "source": [
    "*Extension:* By combining our models with a linear model, we will be unable to notice any correlation between features.  We don't expect all attributes to have the same effect on all venues.  For example, \"Ambiance: divey\" might be a bad indicator for a restaurant but a good one for a bar.  Nonlinear models can pick up on this interaction.  Replace the linear model combining the predictions with a nonlinear one like [`RandomForestRegressor`](http://scikit-learn.org/stable/modules/generated/sklearn.ensemble.RandomForestRegressor.html#sklearn.ensemble.RandomForestRegressor).  Better yet, use the nonlinear model to fit the residuals of the linear model.\n",
    "\n",
    "The score for this question is just a ratio of the score of your model to the score of a reference solution.  Can you beat the reference solution and get a score greater than 1.0?"
   ]
  }
 ],
 "metadata": {
  "kernelspec": {
   "display_name": "Python [default]",
   "language": "python",
   "name": "python3"
  },
  "language_info": {
   "codemirror_mode": {
    "name": "ipython",
    "version": 3
   },
   "file_extension": ".py",
   "mimetype": "text/x-python",
   "name": "python",
   "nbconvert_exporter": "python",
   "pygments_lexer": "ipython3",
   "version": "3.6.7"
  },
  "nbclean": true
 },
 "nbformat": 4,
 "nbformat_minor": 1
}
